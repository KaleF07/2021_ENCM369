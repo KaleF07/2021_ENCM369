{
  "cells": [
    {
      "cell_type": "markdown",
      "metadata": {
        "id": "rjpCOezv0akV"
      },
      "source": [
        "Author: Kale Fordham"
      ]
    },
    {
      "cell_type": "code",
      "execution_count": null,
      "metadata": {
        "id": "7C8Z0S_00aka"
      },
      "outputs": [],
      "source": [
        "# On colab: Install fastbook, fastai, and dependencies\n",
        "!pip install -Uqq fastbook"
      ]
    },
    {
      "cell_type": "code",
      "execution_count": null,
      "metadata": {
        "id": "znZDB24O0ake"
      },
      "outputs": [],
      "source": [
        "# On colab: paste code to display versions here and run cell\n"
      ]
    },
    {
      "cell_type": "code",
      "execution_count": null,
      "metadata": {
        "id": "ZxNMid6t0akf"
      },
      "outputs": [],
      "source": [
        "# On local machine: paste code to display versions here and run cell\n"
      ]
    },
    {
      "cell_type": "markdown",
      "metadata": {
        "id": "TjCZardK0akg"
      },
      "source": [
        "## Reflection\n",
        "Include:\n",
        "- Something you are excited about learning in this course.\n",
        "- Potential difficulties you anticipate."
      ]
    },
    {
      "cell_type": "markdown",
      "metadata": {
        "id": "6TVoVH0M0akh"
      },
      "source": [
        "*YOUR ANSWER HERE*"
      ]
    }
  ],
  "metadata": {
    "kernelspec": {
      "display_name": "Python 3 (ipykernel)",
      "language": "python",
      "name": "python3"
    },
    "language_info": {
      "codemirror_mode": {
        "name": "ipython",
        "version": 3
      },
      "file_extension": ".py",
      "mimetype": "text/x-python",
      "name": "python",
      "nbconvert_exporter": "python",
      "pygments_lexer": "ipython3",
      "version": "3.9.7"
    },
    "colab": {
      "name": "dl-lab0.ipynb",
      "provenance": []
    }
  },
  "nbformat": 4,
  "nbformat_minor": 0
}